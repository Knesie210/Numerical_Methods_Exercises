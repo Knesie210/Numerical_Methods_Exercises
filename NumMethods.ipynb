{
 "cells": [
  {
   "cell_type": "code",
   "execution_count": null,
   "metadata": {},
   "outputs": [],
   "source": [
    "\n",
    "#//\n",
    "#*\n",
    "#!\n",
    "#?\n",
    "#todo\n",
    "\n",
    "#*ACTIVIDAD 11\n",
    "A11 = [i for i in range(20) if i%2 != 0]\n",
    "B11 = [i for i in range(20) if i%4 == 0]\n",
    "#print(A11,\"\\n\")\n",
    "#print(B11,\"\\n\")\n",
    "\n",
    "#*A11.insert(2, 10)\n",
    "B11.pop(0)\n",
    "B11. pop()\n",
    "#print(A,\"\\n\")\n",
    "#print(B,\"\\n\")\n",
    "\n",
    "C11 = A11 + B11\n",
    "#print(C11,\"\\n\")\n",
    "C11.extend([3,4,5])\n",
    "#print(C11,\"\\n\")"
   ]
  },
  {
   "cell_type": "code",
   "execution_count": null,
   "metadata": {},
   "outputs": [],
   "source": [
    "#*ACTIVIDAD 12\n",
    "A12 = {1,2,3,4,5}\n",
    "B12 = {2,4,6,8,10,12}\n",
    "C12 = {1,9,4,3,2,5,11}\n",
    "#print(A12&B12|C12)\n",
    "#print(B12-C12|A12)\n",
    "D12 = C12^B12 #?por que no puedo poner todo el proceso seguido A|C^B\n",
    "#print(D12)\n",
    "#print(A12&D12)\n",
    "D12 = A12^B12\n",
    "#print(D12|(B12-C12))\n",
    "print(\"Hola a todos\")"
   ]
  },
  {
   "cell_type": "code",
   "execution_count": null,
   "metadata": {},
   "outputs": [],
   "source": [
    "#*ACTIVIDAD 13"
   ]
  },
  {
   "cell_type": "code",
   "execution_count": null,
   "metadata": {},
   "outputs": [],
   "source": [
    "#*ACTIVIDAD 14"
   ]
  },
  {
   "cell_type": "code",
   "execution_count": null,
   "metadata": {},
   "outputs": [],
   "source": [
    "# SON IMPORTAR LIBRERIAS CREADAS A TRAVES DE import nombre\n",
    "#!PENDIENTE\n",
    "\n",
    "#*ACTIVIDAD 15-24 REQUIEREN SYMPY \n",
    "#!PENDIENTE "
   ]
  },
  {
   "cell_type": "code",
   "execution_count": null,
   "metadata": {},
   "outputs": [],
   "source": [
    "import numpy as np\n",
    "import matplotlib.pyplot as plt\n",
    "import sympy as sp\n",
    "\n",
    "# Graficar una función\n",
    "x_vals = np.linspace(0, 10, 100)\n",
    "y_vals = np.sin(x_vals)\n",
    "plt.plot(x_vals, y_vals, label='sin(x)')\n",
    "plt.legend()\n",
    "plt.show()\n",
    "\n",
    "# Resolución simbólica de una ecuación diferencial\n",
    "x = sp.Symbol('x')\n",
    "y = sp.Function('y')\n",
    "eq = sp.Eq(y(x).diff(x) - y(x), sp.exp(x))\n",
    "sol = sp.dsolve(eq)\n",
    "display(sol)\n"
   ]
  },
  {
   "cell_type": "code",
   "execution_count": null,
   "metadata": {},
   "outputs": [],
   "source": [
    "import numpy as np\n",
    "import sympy as sp\n",
    "import matplotlib.pyplot as plt\n",
    "\n",
    "# Probar NumPy\n",
    "x_vals = np.linspace(0, 10, 100)\n",
    "y_vals = np.sin(x_vals)\n",
    "\n",
    "# Probar Matplotlib\n",
    "plt.plot(x_vals, y_vals, label='sin(x)')\n",
    "plt.legend()\n",
    "plt.show()\n",
    "\n",
    "# Probar SymPy\n",
    "x = sp.Symbol('x')\n",
    "expr = sp.sin(x)**2\n",
    "derivada = sp.diff(expr, x)\n",
    "print(\"Derivada simbólica:\", derivada)\n"
   ]
  },
  {
   "cell_type": "code",
   "execution_count": null,
   "metadata": {},
   "outputs": [],
   "source": [
    "import matplotlib.pyplot as plt\n",
    "import numpy as np\n",
    "\n",
    "# Configuración para usar LaTeX\n",
    "plt.rc('text', usetex=True)\n",
    "plt.rc('font', family='monospace')\n",
    "\n",
    "# Generar datos\n",
    "x = np.linspace(0, 10, 100)\n",
    "y = np.sin(x)\n",
    "\n",
    "# Graficar\n",
    "plt.plot(x, y, label=r'$y = \\sin(x)$')\n",
    "plt.title(r'Gráfico de $\\sin(x)$', fontsize=16)\n",
    "plt.xlabel(r'$x$', fontsize=14)\n",
    "plt.ylabel(r'$y$', fontsize=14)\n",
    "plt.legend()\n",
    "plt.grid(True)\n",
    "plt.show()\n"
   ]
  }
 ],
 "metadata": {
  "kernelspec": {
   "display_name": "env",
   "language": "python",
   "name": "python3"
  },
  "language_info": {
   "codemirror_mode": {
    "name": "ipython",
    "version": 3
   },
   "file_extension": ".py",
   "mimetype": "text/x-python",
   "name": "python",
   "nbconvert_exporter": "python",
   "pygments_lexer": "ipython3",
   "version": "3.9.6"
  }
 },
 "nbformat": 4,
 "nbformat_minor": 2
}
