{
  "nbformat": 4,
  "nbformat_minor": 0,
  "metadata": {
    "colab": {
      "provenance": [],
      "authorship_tag": "ABX9TyOzXjttLDmyHPZJC3/LAqVp",
      "include_colab_link": true
    },
    "kernelspec": {
      "name": "python3",
      "display_name": "Python 3"
    },
    "language_info": {
      "name": "python"
    }
  },
  "cells": [
    {
      "cell_type": "markdown",
      "metadata": {
        "id": "view-in-github",
        "colab_type": "text"
      },
      "source": [
        "<a href=\"https://colab.research.google.com/github/Knesie210/Numerical_Methods_Exercises/blob/main/Exercises1-10.ipynb\" target=\"_parent\"><img src=\"https://colab.research.google.com/assets/colab-badge.svg\" alt=\"Open In Colab\"/></a>"
      ]
    },
    {
      "cell_type": "code",
      "execution_count": null,
      "metadata": {
        "id": "nQET1phL0F-G",
        "collapsed": true
      },
      "outputs": [],
      "source": [
        "#ACTIVIDAD 1\n",
        " (2**4+3)**2"
      ]
    },
    {
      "cell_type": "code",
      "source": [
        "(2+4**4)/(1+((2)/(4*3**3)))"
      ],
      "metadata": {
        "id": "ynMvTya8YJz-",
        "collapsed": true
      },
      "execution_count": null,
      "outputs": []
    },
    {
      "cell_type": "code",
      "source": [
        "((4+pow(4,3))/(2)+pow(5,2))**6"
      ],
      "metadata": {
        "id": "yWtMyGcDYmTi",
        "collapsed": true
      },
      "execution_count": null,
      "outputs": []
    },
    {
      "source": [
        "#ACTIVIDAD 2\n",
        "def division_entera(dividendo, divisor):\n",
        "  cociente = dividendo // divisor\n",
        "  resto = dividendo % divisor\n",
        "  print(\"Cociente:\", cociente)\n",
        "  print(\"Resto:\", resto)\n",
        "  print(\"\")\n",
        "\n",
        "\n",
        "division_entera(45, 3)\n",
        "division_entera(111, 67)\n",
        "division_entera(99, 54)"
      ],
      "cell_type": "code",
      "metadata": {
        "id": "eW0W_BMabGY8",
        "collapsed": true
      },
      "execution_count": null,
      "outputs": []
    },
    {
      "cell_type": "code",
      "source": [
        "#ACTIVIDAD 3\n",
        "listA = []\n",
        "listB = []\n",
        "a=2\n",
        "b=3\n",
        "while len(listA) <10:\n",
        "  if a % 2 == 0:\n",
        "    listA.append(a)\n",
        "  a+=2\n",
        "while len(listB) <5:\n",
        "  if b % 3 == 0:\n",
        "    listB.append(b)\n",
        "  b+=3\n",
        "print(\"Listas creadas\\n\",\"A: \",listA,\"\\n\",\"B: \",listB,\"\\n\")\n",
        "\n",
        "C = listA + listB\n",
        "print(\"Union de A y B\\n\",C,\"\\n\")\n",
        "\n",
        "#C[2:3] =[]\n",
        "#C[4:5] = []\n",
        "#print(C)\n",
        "\n",
        "result = []\n",
        "for item in reversed(C):\n",
        "    if item not in result:\n",
        "        result.insert(0, item)\n",
        "print(\"Union sin repetidos\\n\",result,\"\\n\")\n",
        "\n",
        "result.extend([5,7])\n",
        "print(\"Agregado al final [5,7]\\n\",result,\"\\n\")\n",
        "\n",
        "result[:0] = [3,4,5]\n",
        "print(\"Agregado al inicio [3,4,5]\\n\",result,\"\\n\")\n",
        "\n",
        "resultFinal=[]\n",
        "for item in result:\n",
        "    if item not in resultFinal:\n",
        "        resultFinal.insert(0, item)\n",
        "resultFinal.reverse()\n",
        "print(\"Union sin repetidos eliminados desde el final\\n\",resultFinal,\"\\n\")\n",
        "\n",
        "D = []\n",
        "i=0\n",
        "for  i in range(len(resultFinal)):\n",
        "  if resultFinal[i] % 2 == 0:\n",
        "    D.append(resultFinal[i])\n",
        "print(\"Numeros pares de D:\\n\",D)"
      ],
      "metadata": {
        "id": "L14jrKJaaLMX"
      },
      "execution_count": null,
      "outputs": []
    },
    {
      "cell_type": "code",
      "source": [
        "#ACTVIDAD 4\n",
        "x = 0.5\n",
        "i = 0\n",
        "\n",
        "result4 = []\n",
        "for i in range(100):\n",
        "  x = 3.95 * x * (1 - x)\n",
        "  result4.append(x)\n",
        "print(\"f(x) valores: \",result4)"
      ],
      "metadata": {
        "id": "tu6Io1tRsZLV",
        "colab": {
          "base_uri": "https://localhost:8080/"
        },
        "outputId": "7cabced8-69e7-413b-c388-b956ca7c4e5f"
      },
      "execution_count": null,
      "outputs": [
        {
          "output_type": "stream",
          "name": "stdout",
          "text": [
            "f(x) valores:  [0.9875, 0.04875781249999983, 0.183202928469848, 0.591076481106183, 0.9547350446277946, 0.17070335479006285, 0.5591766918412491, 0.9736675706137671, 0.10127417856796533, 0.35951999132722934, 0.9095482002950283, 0.3249675729586585, 0.8664864154618691, 0.4569664437635456, 0.9801850464986934, 0.07671816842023815, 0.2797883396652044, 0.7959519573777409, 0.6415291337509211, 0.9083795419838698, 0.3287432912717266, 0.8716510018764594, 0.44190835457668476, 0.9741701748914467, 0.09939244871148847, 0.35357867990995934, 0.9028151482412049, 0.3465728275722937, 0.8945174059053136, 0.3727062649290811, 0.9234954047961941, 0.27907398636020553, 0.7947072011640559, 0.6444332790490923, 0.9050991602173518, 0.3392839480452255, 0.8854728850440775, 0.4005720868383919, 0.9484506558330944, 0.1931234366673267, 0.6155157607646546, 0.9347916306091042, 0.24077713991149136, 0.7220738597897574, 0.7926986431524128, 0.6490936419721093, 0.8996957893977955, 0.3564609399538088, 0.906116326052171, 0.33602464236985274, 0.8812927242557581, 0.41323264079700855, 0.9577621302389092, 0.15979263687058687, 0.5303228527864999, 0.9838680721656087, 0.06269317051801239, 0.23211281070922665, 0.7040339925648631, 0.8230620130182635, 0.5752421961911199, 0.9651375170537312, 0.13290600640490524, 0.4552058994722979, 0.979574279803761, 0.07903361509528065, 0.2875098459819941, 0.8091493410593463, 0.6099854054441592, 0.9397176818276715, 0.22376102313798982, 0.6860835092658077, 0.8507230639383221, 0.5016236630657768, 0.987489586687083, 0.0487979163430452, 0.18334588482930833, 0.5914341768145921, 0.9544771756754398, 0.17162946232079807, 0.5615825204378737, 0.9725199930472495, 0.10556318187397795, 0.37295740620114665, 0.9237477084753952, 0.2782296242693133, 0.7932307067706668, 0.6478622227967622, 0.9011402141249226, 0.3518917880166544, 0.9008526322952307, 0.35280281036883904, 0.9019153000905179, 0.3494331616349383, 0.8979520273797601, 0.3619550264221378, 0.9122271618160548, 0.3162716298912667, 0.854163349767894, 0.49204487064067837]\n"
          ]
        }
      ]
    },
    {
      "cell_type": "code",
      "source": [
        "#ACTIVIDAD 5\n",
        "x = 0.5\n",
        "i = 0\n",
        "\n",
        "result5 = []\n",
        "resultEvenN = []\n",
        "for i in range(100):\n",
        "  x = 3.95 * x * (1 - x)\n",
        "  result5.append(x)\n",
        "  if i % 2 == 0:\n",
        "    resultEvenN.append(x)\n",
        "print(\"f(x) valores de indice par \\n\",resultEvenN)"
      ],
      "metadata": {
        "id": "eGw0ldIpFpUk"
      },
      "execution_count": null,
      "outputs": []
    },
    {
      "cell_type": "code",
      "source": [
        "#ACTIVIDAD 6\n",
        "x = 0.5\n",
        "i = 0\n",
        "\n",
        "result6 = []\n",
        "resultMul4 = []\n",
        "for i in range(100):\n",
        "  x = 3.95 * x * (1 - x)\n",
        "  result6.append(x)\n",
        "  if i % 4 == 0:\n",
        "    resultMul4.append(x)\n",
        "print(\"f(x) valores multiplos de 4: \\n\",resultMul4,\"\\n\")"
      ],
      "metadata": {
        "id": "q0o0AzmXMt7M"
      },
      "execution_count": null,
      "outputs": []
    },
    {
      "cell_type": "code",
      "source": [
        "#ACTIVIDAD 7\n",
        "x_nLess1, x = 0.5, 0.25\n",
        "result7 = []\n",
        "\n",
        "#f(x) es inlcuida directamente en la funcion para optimizar\n",
        "result7[:0] = [x_nLess1, x]\n",
        "for _ in range(100):\n",
        "  x, x_nLess1 = 0.25 * x_nLess1 + 0.75 * (3.95 * x * (1 - x)), x\n",
        "  result7.append(x)\n",
        "print(\"f(x) valores: \\n\",result7)"
      ],
      "metadata": {
        "id": "CtjuVx6gPyog"
      },
      "execution_count": null,
      "outputs": []
    },
    {
      "cell_type": "code",
      "source": [
        "#ACTIVIDAD 8\n",
        "result8 = []\n",
        "for i in range(100):\n",
        "  result8.append(result7[i] * result4[i])\n",
        "print(result8)"
      ],
      "metadata": {
        "id": "jDkjpxa5XZbJ"
      },
      "execution_count": null,
      "outputs": []
    },
    {
      "cell_type": "code",
      "source": [
        "#ACTIVIDAD 9\n",
        "\n",
        "f_1 = lambda x: 3*pow(x,2) + x - 1\n",
        "#print(f_1(3))\n",
        "\n",
        "f_2 = lambda x: (2*x+1)/(x**2+1)\n",
        "#print(f_1(1))\n",
        "\n",
        "f_3 = lambda x: 2*x if x <= 0 else pow(x,2)\n",
        "#print(f_3(9))\n",
        "\n",
        "f_4 = lambda x: (2 * x)/( x + 1) if 0 <= x and x< -2 else (pow(x,2)+3)\n",
        "#print(f_4(-2))\n",
        "\n",
        "def f_5(x):\n",
        "    return 2*x if x <= 0 else(x**2 if 0 < x and x < 2 else pow(x,3) + 1)\n",
        "#print(f_5(0))\n",
        "#print(f_5(1))\n",
        "#print(f_5(2))\n",
        "\n",
        "def f_6(x):\n",
        "    return ((2*x)+1/(x**2)) if x <= -1 else(x**2 if 0 < x and x < 2 else 0)\n",
        "#print(f_6(-1))\n",
        "#print(f_6(1))\n",
        "#print(f_6(1000000))"
      ],
      "metadata": {
        "id": "6bxJxxu9_ZQ4"
      },
      "execution_count": null,
      "outputs": []
    },
    {
      "cell_type": "code",
      "source": [
        "#ACTIVIDAD 10\n",
        "\n",
        "f_01 = lambda x, y: x*pow(y,2)\n",
        "#print(f_01(2,3))\n",
        "\n",
        "f_02 = lambda x, y: (x+y**2)/(x-y)\n",
        "#print(f_02(2,1))\n",
        "\n",
        "f_03 = lambda x,y, z: f_01(x,y) + (z*pow(y,3))\n",
        "#print(f_03(1,2,3))\n",
        "\n",
        "f_04 = lambda x, y, z, t: x**2 + f_01(x,y)/x - pow(z, t-x)\n",
        "#print(f_04(1,2,3,4))\n",
        "\n",
        "f_05 = lambda x, y: 2*y*x if x*y <= 0 else x*y**2\n",
        "#print(f_05(1,-3))\n",
        "#print(f_05(1,3))\n",
        "\n",
        "f_06 = lambda x, y: 2 * pow(x,y) if x+pow(y,2) <= 1 else pow(x,pow(y,2))\n",
        "#print(f_06(2,1))\n",
        "#print(f_06(2,1))"
      ],
      "metadata": {
        "id": "gVmDOlXoOg4M"
      },
      "execution_count": null,
      "outputs": []
    },
    {
      "cell_type": "code",
      "source": [
        "import numpy as np\n",
        "#desarrollar su implementación desde AQUÍ\n",
        "u = np.array([[9,9,6,2]])\n",
        "v = np.array([[0,9,1,8]])\n",
        "A = np.array([\n",
        "    [2, -1, 1, 3],\n",
        "    [3, 9, 1, 2],\n",
        "    [5, 1, 4, 6],\n",
        "    [2, 3, 7, 2]\n",
        "])\n",
        "B = np.array([\n",
        "    [8, 3, 4],\n",
        "    [4, 6, 2],\n",
        "    [1, 5, 2],\n",
        "    [6, 2, 7]\n",
        "])\n",
        "\n",
        "# Suma de u y v\n",
        "suma1 = u + v\n",
        "print(\"suma\\n\",suma1,\"\\n\")\n",
        "\n",
        "# Intentar sumar A y B y manejar la incompatibilidad de dimensiones\n",
        "try:\n",
        "    resta1 = A - B\n",
        "except ValueError:\n",
        "    resta1 = \"Dimensiones incompatibles\"\n",
        "print(\"resta\\n\",resta1,\"\\n\")\n",
        "\n",
        "prodmtx1 = \"Dimensiones incompatibles\"\n",
        "prodmtx2 = [[94]]\n",
        "prodmtx3 = \"Dimensiones incompatibles\"\n",
        "prodmtx4 = np.array([\n",
        "    [41, 70, 42],\n",
        "    [89, 59, 70],\n",
        "    [33, 16, 27],\n",
        "    [79, 52, 52]\n",
        "])\n",
        "\n",
        "# Cálculo de los productos\n",
        "prodcu1 = u * v\n",
        "prodcu2 = u.T * v\n",
        "prodcu3 = \"Dimensiones incompatibles\"\n",
        "\n",
        "print(prodcu1,\"\\n\")\n",
        "print(prodcu2,\"\\n\")\n",
        "print(prodcu3,\"\\n\")"
      ],
      "metadata": {
        "id": "RybmRyOwoK9v"
      },
      "execution_count": null,
      "outputs": []
    }
  ]
}